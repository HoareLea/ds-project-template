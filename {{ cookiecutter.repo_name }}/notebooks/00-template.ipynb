{
 "cells": [
  {
   "cell_type": "code",
   "execution_count": null,
   "metadata": {},
   "outputs": [],
   "source": [
    "# Auto-reload for local package updates\n",
    "%load_ext autoreload\n",
    "%autoreload 2"
   ]
  },
  {
   "cell_type": "code",
   "execution_count": null,
   "metadata": {},
   "outputs": [],
   "source": [
    "import pandas as pd\n",
    "\n",
    "# Set maximum columns for Pandas DataFrame display\n",
    "pd.options.display.max_columns = None\n",
    "\n",
    "# Silence warnings about writing to a slice\n",
    "pd.options.mode.chained_assignment = None"
   ]
  },
  {
   "cell_type": "code",
   "execution_count": null,
   "metadata": {},
   "outputs": [],
   "source": [
    "import os\n",
    "\n",
    "# Set working directory to the project root\n",
    "if os.path.basename(os.getcwd()) == 'notebooks':\n",
    "    os.chdir('..')\n",
    "    print('Working directory set to project root.')\n",
    "elif 'notebooks' in os.listdir('.'):\n",
    "    print('Working directory already set to project root.')\n",
    "else:\n",
    "    print('Warning: Project root not found.')"
   ]
  },
  {
   "cell_type": "code",
   "execution_count": null,
   "metadata": {},
   "outputs": [],
   "source": [
    "from {{cookiecutter.package_name}}.utils.util import yaml2dict\n",
    "from dotenv import load_dotenv\n",
    "\n",
    "# Load environment variables\n",
    "load_dotenv()\n",
    "environment = os.getenv('ENV')\n",
    "\n",
    "# Load public config\n",
    "params = yaml2dict('conf/parameters.yaml')"
   ]
  }
 ],
 "metadata": {
  "language_info": {
   "name": "python"
  }
 },
 "nbformat": 4,
 "nbformat_minor": 2
}
